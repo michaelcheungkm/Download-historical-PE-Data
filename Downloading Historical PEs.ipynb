{
 "cells": [
  {
   "cell_type": "code",
   "execution_count": 3,
   "id": "e09e3bae",
   "metadata": {},
   "outputs": [],
   "source": [
    "from selenium import webdriver\n",
    "import re\n",
    "import pandas as pd\n",
    "import os\n",
    "import urllib.request\n",
    "import time\n",
    "from selenium.webdriver.common.by import By\n",
    "from selenium.webdriver.support.ui import WebDriverWait\n",
    "from selenium.webdriver.support import expected_conditions as EC\n",
    "from selenium.webdriver.chrome.options import Options\n",
    "from selenium.webdriver.common.action_chains import ActionChains\n",
    "import matplotlib.pyplot as plt\n",
    "#import cv2\n",
    "import numpy as np\n",
    "import pickle\n",
    "from tqdm import tqdm\n",
    "from yahoo_fin import stock_info as si"
   ]
  },
  {
   "cell_type": "code",
   "execution_count": 4,
   "id": "29022589",
   "metadata": {},
   "outputs": [],
   "source": [
    "sp = si.tickers_sp500()"
   ]
  },
  {
   "cell_type": "code",
   "execution_count": 155,
   "id": "c279a524",
   "metadata": {},
   "outputs": [
    {
     "name": "stderr",
     "output_type": "stream",
     "text": [
      "C:\\Users\\user\\AppData\\Local\\Temp\\ipykernel_18736\\2623270998.py:2: DeprecationWarning: headless property is deprecated, instead use add_argument('--headless') or add_argument('--headless=new')\n",
      "  option.headless = False\n"
     ]
    }
   ],
   "source": [
    "option = Options()\n",
    "option.headless = False\n",
    "driver = webdriver.Chrome(options=option)"
   ]
  },
  {
   "cell_type": "code",
   "execution_count": 160,
   "id": "cc45ea8b",
   "metadata": {},
   "outputs": [],
   "source": [
    "lt = 'https://www.macrotrends.net/stocks/stock-screener'"
   ]
  },
  {
   "cell_type": "code",
   "execution_count": 161,
   "id": "5d47c502",
   "metadata": {},
   "outputs": [],
   "source": [
    "driver.get(lt)"
   ]
  },
  {
   "cell_type": "code",
   "execution_count": 58,
   "id": "5a2e8c83",
   "metadata": {},
   "outputs": [],
   "source": [
    "lvl=[]\n",
    "stop = 0\n",
    "while stop==0:\n",
    "    i = 0\n",
    "    stop1 = 0\n",
    "    while stop1==0:\n",
    "        webElem = driver.find_elements(By.TAG_NAME, \"a\")\n",
    "        lvl0 = [(x.text, x.get_attribute('href')) for x in webElem]\n",
    "        lvl.append(lvl0[779:799])\n",
    "        i=i+1\n",
    "        if lvl0[799+i][0] != 'Terms of Service':\n",
    "            if lvl0[799+i][0] == '...':\n",
    "                stop1 = 1\n",
    "                webElem[799+i].click()\n",
    "            else:\n",
    "                webElem[799+i].click()\n",
    "        else:\n",
    "            stop=1\n",
    "            stop1=1"
   ]
  },
  {
   "cell_type": "code",
   "execution_count": 59,
   "id": "166771bb",
   "metadata": {},
   "outputs": [
    {
     "data": {
      "text/plain": [
       "358"
      ]
     },
     "execution_count": 59,
     "metadata": {},
     "output_type": "execute_result"
    }
   ],
   "source": [
    "len(lvl)"
   ]
  },
  {
   "cell_type": "code",
   "execution_count": 63,
   "id": "f595f8a8",
   "metadata": {},
   "outputs": [],
   "source": [
    "lvl0 = [x for y in lvl for x in y]"
   ]
  },
  {
   "cell_type": "code",
   "execution_count": 65,
   "id": "08c0b0f8",
   "metadata": {},
   "outputs": [
    {
     "data": {
      "text/plain": [
       "7160"
      ]
     },
     "execution_count": 65,
     "metadata": {},
     "output_type": "execute_result"
    }
   ],
   "source": [
    "len(lvl0)"
   ]
  },
  {
   "cell_type": "code",
   "execution_count": 96,
   "id": "388372cd",
   "metadata": {},
   "outputs": [],
   "source": [
    "links_dict = {}\n",
    "for x in lvl0:\n",
    "    lk = x[1]\n",
    "    ne = x[0]\n",
    "    stk_ne = lk.split('/')[5]\n",
    "    links_dict[stk_ne] = '/'.join(lk.split('/')[:-1])"
   ]
  },
  {
   "cell_type": "code",
   "execution_count": 98,
   "id": "d1848eed",
   "metadata": {},
   "outputs": [
    {
     "data": {
      "text/plain": [
       "5979"
      ]
     },
     "execution_count": 98,
     "metadata": {},
     "output_type": "execute_result"
    }
   ],
   "source": [
    "len(links_dict)"
   ]
  },
  {
   "cell_type": "code",
   "execution_count": 97,
   "id": "06415b48",
   "metadata": {},
   "outputs": [
    {
     "data": {
      "text/plain": [
       "'https://www.macrotrends.net/stocks/charts/UBS/ubs-group-ag'"
      ]
     },
     "execution_count": 97,
     "metadata": {},
     "output_type": "execute_result"
    }
   ],
   "source": [
    "links_dict['UBS']"
   ]
  },
  {
   "cell_type": "code",
   "execution_count": 93,
   "id": "f083133f",
   "metadata": {},
   "outputs": [
    {
     "name": "stdout",
     "output_type": "stream",
     "text": [
      "E:\\Stock Selections\n"
     ]
    }
   ],
   "source": [
    "cd E:\\Stock Selections"
   ]
  },
  {
   "cell_type": "code",
   "execution_count": 99,
   "id": "a2662222",
   "metadata": {},
   "outputs": [],
   "source": [
    "pickle.dump(links_dict,open('links_dict.obj','wb'))"
   ]
  },
  {
   "cell_type": "code",
   "execution_count": 136,
   "id": "8af45835",
   "metadata": {},
   "outputs": [],
   "source": [
    "stks=list(links_dict.keys())"
   ]
  },
  {
   "cell_type": "code",
   "execution_count": 170,
   "id": "559faae8",
   "metadata": {},
   "outputs": [],
   "source": [
    "dfs = {}\n",
    "for z in range(536,len(stks)):\n",
    "    try:\n",
    "        x = stks[z]\n",
    "        lt = links_dict[x]+'/pe-ratio'\n",
    "        driver.get(lt)\n",
    "        webElem = driver.find_elements(By.CLASS_NAME, \"table\")\n",
    "        dt = webElem[0].text.split('\\n')[2:]\n",
    "        th = ['Date','TTM_Net_EPS','PE']\n",
    "        td = []\n",
    "        for i in range(len(dt)):\n",
    "            dtl = dt[i].split(' ')\n",
    "            if len(dtl)==4:\n",
    "                td.append([dtl[0],dtl[2],dtl[3]])\n",
    "            else:\n",
    "                if dtl[1][0]=='$':\n",
    "                    td.append([dtl[0],dtl[1],dtl[2]])\n",
    "                elif dtl[2][0]=='$':\n",
    "                    td.append([dtl[0],dtl[2],np.nan])\n",
    "                else:\n",
    "                    td.append([dtl[0],np.nan,dtl[2]])\n",
    "        df = pd.DataFrame(td,columns=th)\n",
    "        lt = links_dict[x]+'/price-sales'\n",
    "        driver.get(lt)\n",
    "        webElem = driver.find_elements(By.CLASS_NAME, \"table\")\n",
    "        dt = webElem[0].text.split('\\n')[2:]\n",
    "        th1 = ['Date','TTM_Sales_per_Share','Price_to_Sales']\n",
    "        td1 = []\n",
    "        for i in range(len(dt)):\n",
    "            dtl = dt[i].split(' ')\n",
    "            if len(dtl)==4:\n",
    "                td1.append([dtl[0],dtl[2],dtl[3]])\n",
    "            else:\n",
    "                if dtl[1][0]=='$':\n",
    "                    td1.append([dtl[0],dtl[1],dtl[2]])\n",
    "                elif dtl[2][0]=='$':\n",
    "                    td1.append([dtl[0],dtl[2],np.nan])\n",
    "                else:\n",
    "                    td1.append([dtl[0],np.nan,dtl[2]])\n",
    "        df1 = pd.DataFrame(td1,columns=th1)\n",
    "        lt = links_dict[x]+'/price-book'\n",
    "        driver.get(lt)\n",
    "        webElem = driver.find_elements(By.CLASS_NAME, \"table\")\n",
    "        dt = webElem[0].text.split('\\n')[2:]\n",
    "        th2 = ['Date','Book_Value_per_Share','Price_to_Book']\n",
    "        td2 = []\n",
    "        for i in range(len(dt)):\n",
    "            dtl = dt[i].split(' ')\n",
    "            if len(dtl)==4:\n",
    "                td2.append([dtl[0],dtl[2],dtl[3]])\n",
    "            else:\n",
    "                if dtl[1][0]=='$':\n",
    "                    td2.append([dtl[0],dtl[1],dtl[2]])\n",
    "                elif dtl[2][0]=='$':\n",
    "                    td2.append([dtl[0],dtl[2],np.nan])\n",
    "                else:\n",
    "                    td2.append([dtl[0],np.nan,dtl[2]])\n",
    "        df2 = pd.DataFrame(td2,columns=th2)\n",
    "        dfs[x] = pd.merge(pd.merge(df,df1,on='Date'),df2,on='Date')\n",
    "    except:\n",
    "        continue"
   ]
  },
  {
   "cell_type": "code",
   "execution_count": 175,
   "id": "9947b1ec",
   "metadata": {},
   "outputs": [
    {
     "data": {
      "text/html": [
       "<div>\n",
       "<style scoped>\n",
       "    .dataframe tbody tr th:only-of-type {\n",
       "        vertical-align: middle;\n",
       "    }\n",
       "\n",
       "    .dataframe tbody tr th {\n",
       "        vertical-align: top;\n",
       "    }\n",
       "\n",
       "    .dataframe thead th {\n",
       "        text-align: right;\n",
       "    }\n",
       "</style>\n",
       "<table border=\"1\" class=\"dataframe\">\n",
       "  <thead>\n",
       "    <tr style=\"text-align: right;\">\n",
       "      <th></th>\n",
       "      <th>Date</th>\n",
       "      <th>TTM_Net_EPS</th>\n",
       "      <th>PE</th>\n",
       "      <th>TTM_Sales_per_Share</th>\n",
       "      <th>Price_to_Sales</th>\n",
       "      <th>Book_Value_per_Share</th>\n",
       "      <th>Price_to_Book</th>\n",
       "    </tr>\n",
       "  </thead>\n",
       "  <tbody>\n",
       "    <tr>\n",
       "      <th>0</th>\n",
       "      <td>2023-03-31</td>\n",
       "      <td>$-1.73</td>\n",
       "      <td>0.00</td>\n",
       "      <td>$17.06</td>\n",
       "      <td>1.86</td>\n",
       "      <td>NaN</td>\n",
       "      <td>0.00</td>\n",
       "    </tr>\n",
       "    <tr>\n",
       "      <th>1</th>\n",
       "      <td>2022-12-31</td>\n",
       "      <td>$-4.69</td>\n",
       "      <td>0.00</td>\n",
       "      <td>$16.17</td>\n",
       "      <td>1.53</td>\n",
       "      <td>NaN</td>\n",
       "      <td>0.00</td>\n",
       "    </tr>\n",
       "    <tr>\n",
       "      <th>2</th>\n",
       "      <td>2022-09-30</td>\n",
       "      <td>$-4.54</td>\n",
       "      <td>0.00</td>\n",
       "      <td>$14.86</td>\n",
       "      <td>1.78</td>\n",
       "      <td>NaN</td>\n",
       "      <td>0.00</td>\n",
       "    </tr>\n",
       "    <tr>\n",
       "      <th>3</th>\n",
       "      <td>2022-06-30</td>\n",
       "      <td>$-5.21</td>\n",
       "      <td>0.00</td>\n",
       "      <td>$13.20</td>\n",
       "      <td>1.55</td>\n",
       "      <td>NaN</td>\n",
       "      <td>0.00</td>\n",
       "    </tr>\n",
       "    <tr>\n",
       "      <th>4</th>\n",
       "      <td>2022-03-31</td>\n",
       "      <td>$-3.30</td>\n",
       "      <td>0.00</td>\n",
       "      <td>$11.11</td>\n",
       "      <td>3.21</td>\n",
       "      <td>NaN</td>\n",
       "      <td>0.00</td>\n",
       "    </tr>\n",
       "    <tr>\n",
       "      <th>5</th>\n",
       "      <td>2021-12-31</td>\n",
       "      <td>$-0.32</td>\n",
       "      <td>0.00</td>\n",
       "      <td>$9.17</td>\n",
       "      <td>4.57</td>\n",
       "      <td>NaN</td>\n",
       "      <td>0.00</td>\n",
       "    </tr>\n",
       "    <tr>\n",
       "      <th>6</th>\n",
       "      <td>2021-09-30</td>\n",
       "      <td>$-1.30</td>\n",
       "      <td>0.00</td>\n",
       "      <td>$7.93</td>\n",
       "      <td>5.65</td>\n",
       "      <td>NaN</td>\n",
       "      <td>0.00</td>\n",
       "    </tr>\n",
       "    <tr>\n",
       "      <th>7</th>\n",
       "      <td>2021-06-30</td>\n",
       "      <td>$-0.64</td>\n",
       "      <td>0.00</td>\n",
       "      <td>$6.98</td>\n",
       "      <td>7.18</td>\n",
       "      <td>NaN</td>\n",
       "      <td>0.00</td>\n",
       "    </tr>\n",
       "    <tr>\n",
       "      <th>8</th>\n",
       "      <td>2021-03-31</td>\n",
       "      <td>$-2.24</td>\n",
       "      <td>0.00</td>\n",
       "      <td>$6.07</td>\n",
       "      <td>8.98</td>\n",
       "      <td>NaN</td>\n",
       "      <td>0.00</td>\n",
       "    </tr>\n",
       "    <tr>\n",
       "      <th>9</th>\n",
       "      <td>2020-12-31</td>\n",
       "      <td>$-3.88</td>\n",
       "      <td>0.00</td>\n",
       "      <td>$6.39</td>\n",
       "      <td>7.98</td>\n",
       "      <td>NaN</td>\n",
       "      <td>0.00</td>\n",
       "    </tr>\n",
       "    <tr>\n",
       "      <th>10</th>\n",
       "      <td>2020-09-30</td>\n",
       "      <td>$-3.98</td>\n",
       "      <td>0.00</td>\n",
       "      <td>$6.93</td>\n",
       "      <td>5.27</td>\n",
       "      <td>NaN</td>\n",
       "      <td>0.00</td>\n",
       "    </tr>\n",
       "    <tr>\n",
       "      <th>11</th>\n",
       "      <td>2020-06-30</td>\n",
       "      <td>$-4.04</td>\n",
       "      <td>0.00</td>\n",
       "      <td>$7.57</td>\n",
       "      <td>4.11</td>\n",
       "      <td>NaN</td>\n",
       "      <td>0.00</td>\n",
       "    </tr>\n",
       "    <tr>\n",
       "      <th>12</th>\n",
       "      <td>2020-03-31</td>\n",
       "      <td>$-7.74</td>\n",
       "      <td>0.00</td>\n",
       "      <td>$9.32</td>\n",
       "      <td>3.00</td>\n",
       "      <td>NaN</td>\n",
       "      <td>0.00</td>\n",
       "    </tr>\n",
       "  </tbody>\n",
       "</table>\n",
       "</div>"
      ],
      "text/plain": [
       "          Date TTM_Net_EPS    PE TTM_Sales_per_Share Price_to_Sales  \\\n",
       "0   2023-03-31      $-1.73  0.00              $17.06           1.86   \n",
       "1   2022-12-31      $-4.69  0.00              $16.17           1.53   \n",
       "2   2022-09-30      $-4.54  0.00              $14.86           1.78   \n",
       "3   2022-06-30      $-5.21  0.00              $13.20           1.55   \n",
       "4   2022-03-31      $-3.30  0.00              $11.11           3.21   \n",
       "5   2021-12-31      $-0.32  0.00               $9.17           4.57   \n",
       "6   2021-09-30      $-1.30  0.00               $7.93           5.65   \n",
       "7   2021-06-30      $-0.64  0.00               $6.98           7.18   \n",
       "8   2021-03-31      $-2.24  0.00               $6.07           8.98   \n",
       "9   2020-12-31      $-3.88  0.00               $6.39           7.98   \n",
       "10  2020-09-30      $-3.98  0.00               $6.93           5.27   \n",
       "11  2020-06-30      $-4.04  0.00               $7.57           4.11   \n",
       "12  2020-03-31      $-7.74  0.00               $9.32           3.00   \n",
       "\n",
       "    Book_Value_per_Share Price_to_Book  \n",
       "0                    NaN          0.00  \n",
       "1                    NaN          0.00  \n",
       "2                    NaN          0.00  \n",
       "3                    NaN          0.00  \n",
       "4                    NaN          0.00  \n",
       "5                    NaN          0.00  \n",
       "6                    NaN          0.00  \n",
       "7                    NaN          0.00  \n",
       "8                    NaN          0.00  \n",
       "9                    NaN          0.00  \n",
       "10                   NaN          0.00  \n",
       "11                   NaN          0.00  \n",
       "12                   NaN          0.00  "
      ]
     },
     "execution_count": 175,
     "metadata": {},
     "output_type": "execute_result"
    }
   ],
   "source": [
    "dfs['UBER']"
   ]
  },
  {
   "cell_type": "code",
   "execution_count": 173,
   "id": "4012d790",
   "metadata": {},
   "outputs": [],
   "source": [
    "pickle.dump(dfs, open('dfs.obj','wb'))"
   ]
  },
  {
   "cell_type": "code",
   "execution_count": null,
   "id": "bc91b105",
   "metadata": {},
   "outputs": [],
   "source": []
  }
 ],
 "metadata": {
  "kernelspec": {
   "display_name": "Python 3 (ipykernel)",
   "language": "python",
   "name": "python3"
  },
  "language_info": {
   "codemirror_mode": {
    "name": "ipython",
    "version": 3
   },
   "file_extension": ".py",
   "mimetype": "text/x-python",
   "name": "python",
   "nbconvert_exporter": "python",
   "pygments_lexer": "ipython3",
   "version": "3.10.9"
  }
 },
 "nbformat": 4,
 "nbformat_minor": 5
}
